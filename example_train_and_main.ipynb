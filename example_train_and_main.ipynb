{
 "cells": [
  {
   "cell_type": "code",
   "execution_count": 2,
   "metadata": {
    "id": "KzRgNXudU57w"
   },
   "outputs": [],
   "source": [
    "import numpy as np\n",
    "from helpers import make_data\n",
    "from tensorflow.keras.models import Sequential\n",
    "from tensorflow.keras.layers import (\n",
    "    Conv2D,\n",
    "    MaxPool2D,\n",
    "    BatchNormalization,\n",
    "    Activation,\n",
    "    Reshape,\n",
    "    Flatten,\n",
    "    Dense,\n",
    ")\n",
    "\n",
    "def gen_model():\n",
    "    IMAGE_SIZE = 200\n",
    "    NFILTERS = 8\n",
    "    CONV_PARAMS = {\"kernel_size\": 3, \"use_bias\": False, \"padding\": \"same\"}\n",
    "\n",
    "    model = Sequential()\n",
    "    model.add(\n",
    "        Reshape((IMAGE_SIZE, IMAGE_SIZE, 1), input_shape=(IMAGE_SIZE, IMAGE_SIZE))\n",
    "    )\n",
    "    for i in [1, 2, 4, 8, 16, 32, 64]:\n",
    "        model.add(Conv2D(NFILTERS * i, **CONV_PARAMS))\n",
    "        model.add(BatchNormalization())\n",
    "        model.add(Activation(\"relu\"))\n",
    "        model.add(MaxPool2D())\n",
    "    model.add(Flatten())\n",
    "    model.add(Dense(5))\n",
    "    return model\n",
    "\n",
    "\n",
    "def make_batch(batch_size):\n",
    "    # this model can only train on data where a spaceship is guaranteed, this is not true when testing\n",
    "    imgs, labels = zip(*[make_data(has_spaceship=True) for _ in range(batch_size)])\n",
    "    imgs = np.stack(imgs)\n",
    "    labels = np.stack(labels)\n",
    "    return imgs, labels\n",
    "\n",
    "\n",
    "def main():\n",
    "    BATCH_SIZE = 64\n",
    "\n",
    "    model = gen_model()\n",
    "    model.compile(loss=\"mse\", optimizer=\"adam\")\n",
    "    model.summary()\n",
    "\n",
    "    model.fit_generator(\n",
    "        iter(lambda: make_batch(BATCH_SIZE), None), steps_per_epoch=500, epochs=30,\n",
    "    )\n",
    "    model.save(\"model.hdf5\")\n",
    "    print(\"Done\")"
   ]
  },
  {
   "cell_type": "code",
   "execution_count": 3,
   "metadata": {
    "colab": {
     "base_uri": "https://localhost:8080/"
    },
    "id": "9CGSpC5AU57x",
    "outputId": "69f45db1-dd29-44b0-9fca-631e289faca6"
   },
   "outputs": [
    {
     "name": "stdout",
     "output_type": "stream",
     "text": [
      "Model: \"sequential\"\n",
      "_________________________________________________________________\n",
      "Layer (type)                 Output Shape              Param #   \n",
      "=================================================================\n",
      "reshape (Reshape)            (None, 200, 200, 1)       0         \n",
      "_________________________________________________________________\n",
      "conv2d (Conv2D)              (None, 200, 200, 8)       72        \n",
      "_________________________________________________________________\n",
      "batch_normalization (BatchNo (None, 200, 200, 8)       32        \n",
      "_________________________________________________________________\n",
      "activation (Activation)      (None, 200, 200, 8)       0         \n",
      "_________________________________________________________________\n",
      "max_pooling2d (MaxPooling2D) (None, 100, 100, 8)       0         \n",
      "_________________________________________________________________\n",
      "conv2d_1 (Conv2D)            (None, 100, 100, 16)      1152      \n",
      "_________________________________________________________________\n",
      "batch_normalization_1 (Batch (None, 100, 100, 16)      64        \n",
      "_________________________________________________________________\n",
      "activation_1 (Activation)    (None, 100, 100, 16)      0         \n",
      "_________________________________________________________________\n",
      "max_pooling2d_1 (MaxPooling2 (None, 50, 50, 16)        0         \n",
      "_________________________________________________________________\n",
      "conv2d_2 (Conv2D)            (None, 50, 50, 32)        4608      \n",
      "_________________________________________________________________\n",
      "batch_normalization_2 (Batch (None, 50, 50, 32)        128       \n",
      "_________________________________________________________________\n",
      "activation_2 (Activation)    (None, 50, 50, 32)        0         \n",
      "_________________________________________________________________\n",
      "max_pooling2d_2 (MaxPooling2 (None, 25, 25, 32)        0         \n",
      "_________________________________________________________________\n",
      "conv2d_3 (Conv2D)            (None, 25, 25, 64)        18432     \n",
      "_________________________________________________________________\n",
      "batch_normalization_3 (Batch (None, 25, 25, 64)        256       \n",
      "_________________________________________________________________\n",
      "activation_3 (Activation)    (None, 25, 25, 64)        0         \n",
      "_________________________________________________________________\n",
      "max_pooling2d_3 (MaxPooling2 (None, 12, 12, 64)        0         \n",
      "_________________________________________________________________\n",
      "conv2d_4 (Conv2D)            (None, 12, 12, 128)       73728     \n",
      "_________________________________________________________________\n",
      "batch_normalization_4 (Batch (None, 12, 12, 128)       512       \n",
      "_________________________________________________________________\n",
      "activation_4 (Activation)    (None, 12, 12, 128)       0         \n",
      "_________________________________________________________________\n",
      "max_pooling2d_4 (MaxPooling2 (None, 6, 6, 128)         0         \n",
      "_________________________________________________________________\n",
      "conv2d_5 (Conv2D)            (None, 6, 6, 256)         294912    \n",
      "_________________________________________________________________\n",
      "batch_normalization_5 (Batch (None, 6, 6, 256)         1024      \n",
      "_________________________________________________________________\n",
      "activation_5 (Activation)    (None, 6, 6, 256)         0         \n",
      "_________________________________________________________________\n",
      "max_pooling2d_5 (MaxPooling2 (None, 3, 3, 256)         0         \n",
      "_________________________________________________________________\n",
      "conv2d_6 (Conv2D)            (None, 3, 3, 512)         1179648   \n",
      "_________________________________________________________________\n",
      "batch_normalization_6 (Batch (None, 3, 3, 512)         2048      \n",
      "_________________________________________________________________\n",
      "activation_6 (Activation)    (None, 3, 3, 512)         0         \n",
      "_________________________________________________________________\n",
      "max_pooling2d_6 (MaxPooling2 (None, 1, 1, 512)         0         \n",
      "_________________________________________________________________\n",
      "flatten (Flatten)            (None, 512)               0         \n",
      "_________________________________________________________________\n",
      "dense (Dense)                (None, 5)                 2565      \n",
      "=================================================================\n",
      "Total params: 1,579,181\n",
      "Trainable params: 1,577,149\n",
      "Non-trainable params: 2,032\n",
      "_________________________________________________________________\n",
      "WARNING:tensorflow:From <ipython-input-2-68e06a3da7ad>:49: Model.fit_generator (from tensorflow.python.keras.engine.training) is deprecated and will be removed in a future version.\n",
      "Instructions for updating:\n",
      "Please use Model.fit, which supports generators.\n",
      "Epoch 1/30\n",
      "500/500 [==============================] - 68s 136ms/step - loss: 906.4537\n",
      "Epoch 2/30\n",
      "500/500 [==============================] - 68s 136ms/step - loss: 294.7676\n",
      "Epoch 3/30\n",
      "500/500 [==============================] - 69s 137ms/step - loss: 195.0832\n",
      "Epoch 4/30\n",
      "500/500 [==============================] - 68s 136ms/step - loss: 153.3933\n",
      "Epoch 5/30\n",
      "500/500 [==============================] - 68s 137ms/step - loss: 128.5576\n",
      "Epoch 6/30\n",
      "500/500 [==============================] - 68s 136ms/step - loss: 109.2336\n",
      "Epoch 7/30\n",
      "500/500 [==============================] - 68s 137ms/step - loss: 96.4275\n",
      "Epoch 8/30\n",
      "500/500 [==============================] - 69s 137ms/step - loss: 90.1516\n",
      "Epoch 9/30\n",
      "500/500 [==============================] - 69s 138ms/step - loss: 81.7483\n",
      "Epoch 10/30\n",
      "500/500 [==============================] - 69s 138ms/step - loss: 75.2321\n",
      "Epoch 11/30\n",
      "500/500 [==============================] - 69s 138ms/step - loss: 71.5113\n",
      "Epoch 12/30\n",
      "500/500 [==============================] - 69s 137ms/step - loss: 68.5198\n",
      "Epoch 13/30\n",
      "500/500 [==============================] - 68s 137ms/step - loss: 65.3814\n",
      "Epoch 14/30\n",
      "500/500 [==============================] - 68s 135ms/step - loss: 61.1770\n",
      "Epoch 15/30\n",
      "500/500 [==============================] - 67s 134ms/step - loss: 59.3860\n",
      "Epoch 16/30\n",
      "500/500 [==============================] - 67s 134ms/step - loss: 56.5542\n",
      "Epoch 17/30\n",
      "500/500 [==============================] - 66s 133ms/step - loss: 53.4800\n",
      "Epoch 18/30\n",
      "500/500 [==============================] - 67s 133ms/step - loss: 51.7296\n",
      "Epoch 19/30\n",
      "500/500 [==============================] - 67s 133ms/step - loss: 51.5875\n",
      "Epoch 20/30\n",
      "500/500 [==============================] - 67s 134ms/step - loss: 49.1128\n",
      "Epoch 21/30\n",
      "500/500 [==============================] - 67s 133ms/step - loss: 48.0313\n",
      "Epoch 22/30\n",
      "500/500 [==============================] - 68s 135ms/step - loss: 45.7513\n",
      "Epoch 23/30\n",
      "500/500 [==============================] - 68s 136ms/step - loss: 44.8565\n",
      "Epoch 24/30\n",
      "500/500 [==============================] - 68s 135ms/step - loss: 44.6283\n",
      "Epoch 25/30\n",
      "500/500 [==============================] - 67s 135ms/step - loss: 43.1886\n",
      "Epoch 26/30\n",
      "500/500 [==============================] - 67s 134ms/step - loss: 42.1588\n",
      "Epoch 27/30\n",
      "500/500 [==============================] - 67s 133ms/step - loss: 41.9434\n",
      "Epoch 28/30\n",
      "500/500 [==============================] - 66s 132ms/step - loss: 43.5484\n",
      "Epoch 29/30\n",
      "500/500 [==============================] - 66s 131ms/step - loss: 40.7409\n",
      "Epoch 30/30\n",
      "500/500 [==============================] - 67s 134ms/step - loss: 39.0773\n",
      "Done\n"
     ]
    }
   ],
   "source": [
    "main()"
   ]
  },
  {
   "cell_type": "code",
   "execution_count": 4,
   "metadata": {
    "id": "apWGl3v8U57y"
   },
   "outputs": [],
   "source": [
    "from helpers import make_data, score_iou\n",
    "import numpy as np\n",
    "from tensorflow import keras\n",
    "from tqdm import tqdm\n",
    "\n",
    "\n",
    "def eval():\n",
    "    model = keras.models.load_model(\"model.hdf5\")\n",
    "\n",
    "    ious = []\n",
    "    for _ in tqdm(range(1000)):\n",
    "        img, label = make_data()\n",
    "        pred = model.predict(img[None])\n",
    "        pred = np.squeeze(pred)\n",
    "        ious.append(score_iou(label, pred))\n",
    "\n",
    "    ious = np.asarray(ious, dtype=\"float\")\n",
    "    ious = ious[~np.isnan(ious)]  # remove true negatives\n",
    "    print()\n",
    "    print((ious > 0.7).mean())\n",
    "    # 0.004"
   ]
  },
  {
   "cell_type": "code",
   "execution_count": 5,
   "metadata": {
    "colab": {
     "base_uri": "https://localhost:8080/"
    },
    "id": "0ewrCYt_U57y",
    "outputId": "303d18d9-f2d5-4b79-8f37-ecf3b690f98a"
   },
   "outputs": [
    {
     "name": "stderr",
     "output_type": "stream",
     "text": [
      "100%|██████████| 1000/1000 [00:37<00:00, 26.74it/s]"
     ]
    },
    {
     "name": "stdout",
     "output_type": "stream",
     "text": [
      "\n",
      "0.025\n"
     ]
    },
    {
     "name": "stderr",
     "output_type": "stream",
     "text": [
      "\n"
     ]
    }
   ],
   "source": [
    "eval()"
   ]
  },
  {
   "cell_type": "markdown",
   "metadata": {
    "id": "hm6zR2auWDfS"
   },
   "source": [
    "Model trained for 30 epochs had eval score of 0.04 or 0.025\n",
    "\n",
    "Model trained for 2 epochs had eval score of 0.004"
   ]
  },
  {
   "cell_type": "code",
   "execution_count": 5,
   "metadata": {
    "id": "5zDBxoqkWPvP"
   },
   "outputs": [],
   "source": []
  }
 ],
 "metadata": {
  "accelerator": "GPU",
  "colab": {
   "collapsed_sections": [],
   "name": "example_train_and_main.ipynb",
   "provenance": []
  },
  "kernelspec": {
   "display_name": "Python 3",
   "language": "python",
   "name": "python3"
  },
  "language_info": {
   "codemirror_mode": {
    "name": "ipython",
    "version": 3
   },
   "file_extension": ".py",
   "mimetype": "text/x-python",
   "name": "python",
   "nbconvert_exporter": "python",
   "pygments_lexer": "ipython3",
   "version": "3.7.5"
  }
 },
 "nbformat": 4,
 "nbformat_minor": 4
}
