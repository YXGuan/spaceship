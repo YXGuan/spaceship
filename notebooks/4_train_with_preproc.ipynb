{
 "cells": [
  {
   "cell_type": "markdown",
   "metadata": {
    "id": "SoKsZpDy3QAA"
   },
   "source": [
    "# preproc"
   ]
  },
  {
   "cell_type": "code",
   "execution_count": 2,
   "metadata": {
    "executionInfo": {
     "elapsed": 485,
     "status": "ok",
     "timestamp": 1606628999624,
     "user": {
      "displayName": "Jay Mody",
      "photoUrl": "https://lh3.googleusercontent.com/a-/AOh14GgCXWcHrcgynr-4to5IOpeiLngudJ2C16JJoC_l=s64",
      "userId": "17226995523972850742"
     },
     "user_tz": 300
    },
    "id": "nLjkTcrR3X7d"
   },
   "outputs": [],
   "source": [
    "import numpy as np\n",
    "from helpers import make_data"
   ]
  },
  {
   "cell_type": "code",
   "execution_count": 3,
   "metadata": {
    "executionInfo": {
     "elapsed": 344,
     "status": "ok",
     "timestamp": 1606629000235,
     "user": {
      "displayName": "Jay Mody",
      "photoUrl": "https://lh3.googleusercontent.com/a-/AOh14GgCXWcHrcgynr-4to5IOpeiLngudJ2C16JJoC_l=s64",
      "userId": "17226995523972850742"
     },
     "user_tz": 300
    },
    "id": "GcKupa2g3OwA"
   },
   "outputs": [],
   "source": [
    "def preprocess_image(img):\n",
    "    return np.where(img >= 0.8, img, 0.0)"
   ]
  },
  {
   "cell_type": "code",
   "execution_count": 4,
   "metadata": {
    "colab": {
     "base_uri": "https://localhost:8080/",
     "height": 287
    },
    "executionInfo": {
     "elapsed": 413,
     "status": "ok",
     "timestamp": 1606629000889,
     "user": {
      "displayName": "Jay Mody",
      "photoUrl": "https://lh3.googleusercontent.com/a-/AOh14GgCXWcHrcgynr-4to5IOpeiLngudJ2C16JJoC_l=s64",
      "userId": "17226995523972850742"
     },
     "user_tz": 300
    },
    "id": "CpyUEYWoPcfO",
    "outputId": "6ee41de5-5546-47e7-fb99-ac069aa870d9"
   },
   "outputs": [
    {
     "data": {
      "text/plain": [
       "<matplotlib.image.AxesImage at 0x7f1035572c18>"
      ]
     },
     "execution_count": 4,
     "metadata": {
      "tags": []
     },
     "output_type": "execute_result"
    },
    {
     "data": {
      "image/png": "[encoded data removed]",
      "text/plain": [
       "<Figure size 432x288 with 1 Axes>"
      ]
     },
     "metadata": {
      "needs_background": "light",
      "tags": []
     },
     "output_type": "display_data"
    }
   ],
   "source": [
    "import matplotlib.pyplot as plt\n",
    "plt.imshow(preprocess_image(make_data(8)[0]), cmap=\"gray\")"
   ]
  },
  {
   "cell_type": "markdown",
   "metadata": {
    "id": "17c_3MQ93Rb6"
   },
   "source": [
    "# train"
   ]
  },
  {
   "cell_type": "code",
   "execution_count": 5,
   "metadata": {
    "executionInfo": {
     "elapsed": 344,
     "status": "ok",
     "timestamp": 1606629001693,
     "user": {
      "displayName": "Jay Mody",
      "photoUrl": "https://lh3.googleusercontent.com/a-/AOh14GgCXWcHrcgynr-4to5IOpeiLngudJ2C16JJoC_l=s64",
      "userId": "17226995523972850742"
     },
     "user_tz": 300
    },
    "id": "yBWnq0dfV6AC"
   },
   "outputs": [],
   "source": [
    "!mkdir -p logs"
   ]
  },
  {
   "cell_type": "code",
   "execution_count": 6,
   "metadata": {
    "executionInfo": {
     "elapsed": 2018,
     "status": "ok",
     "timestamp": 1606629003748,
     "user": {
      "displayName": "Jay Mody",
      "photoUrl": "https://lh3.googleusercontent.com/a-/AOh14GgCXWcHrcgynr-4to5IOpeiLngudJ2C16JJoC_l=s64",
      "userId": "17226995523972850742"
     },
     "user_tz": 300
    },
    "id": "KzRgNXudU57w"
   },
   "outputs": [],
   "source": [
    "import numpy as np\n",
    "from helpers import make_data\n",
    "import tensorflow as tf\n",
    "from tensorflow.keras.models import Sequential\n",
    "from tensorflow.keras.layers import (\n",
    "    Conv2D,\n",
    "    MaxPool2D,\n",
    "    BatchNormalization,\n",
    "    Activation,\n",
    "    Reshape,\n",
    "    Flatten,\n",
    "    Dense,\n",
    "    Dropout,\n",
    ")\n",
    "\n",
    "def gen_model():\n",
    "    IMAGE_SIZE = 200\n",
    "    CONV_PARAMS = {\"use_bias\": False, \"padding\": \"same\"}\n",
    "\n",
    "    model = Sequential()\n",
    "    model.add(\n",
    "        Reshape((IMAGE_SIZE, IMAGE_SIZE, 1), input_shape=(IMAGE_SIZE, IMAGE_SIZE))\n",
    "    )\n",
    "\n",
    "    for filters, kernel_size in [(8, 11), (16, 9), (32, 7), (64, 5), (128, 3), (256, 3), (512, 3)]:\n",
    "        model.add(Conv2D(filters, kernel_size=kernel_size, **CONV_PARAMS))\n",
    "        model.add(BatchNormalization())\n",
    "        model.add(Activation(\"relu\"))\n",
    "        model.add(MaxPool2D())\n",
    "        # model.add(Dropout(0.25))\n",
    "    \n",
    "    model.add(Flatten())\n",
    "    # model.add(Dense(512, activation='relu'))\n",
    "    # model.add(Dropout(0.5))\n",
    "    model.add(Dense(5))\n",
    "    return model\n",
    "\n",
    "\n",
    "def make_batch(batch_size):\n",
    "    # this model can only train on data where a spaceship is guaranteed, this is not true when testing\n",
    "    imgs, labels = zip(*[make_data(has_spaceship=True) for _ in range(batch_size)])\n",
    "    imgs = [preprocess_image(img) for img in imgs]\n",
    "    imgs = np.stack(imgs)\n",
    "    labels = np.stack(labels)\n",
    "    return imgs, labels\n",
    "\n",
    "\n",
    "from helpers import score_iou\n",
    "class Metrics(tf.keras.callbacks.Callback):\n",
    "    def on_train_begin(self, logs={}):\n",
    "        self.mean_iou = []\n",
    "        self.score = []\n",
    "        self.loss = []\n",
    "\n",
    "    def on_epoch_end(self, epoch, logs={}):\n",
    "        images, labels = self.model.validation_data\n",
    "        preds = np.asarray(self.model.predict(images))\n",
    "        ious = np.array([score_iou(pred, label) for pred, label in zip(preds, labels)])\n",
    "        self.mean_iou.append(ious.mean())\n",
    "        self.score.append((ious > 0.7).mean())\n",
    "        self.loss.append(logs[\"loss\"])\n",
    "\n",
    "\n",
    "def train(batch_size, steps_per_epoch, epochs, n_val_examples=1000):\n",
    "    model = gen_model()\n",
    "    model.compile(loss=\"mse\", optimizer=tf.optimizers.Adam(lr=0.001))\n",
    "    model.summary()\n",
    "    model.validation_data = make_batch(n_val_examples)\n",
    "    \n",
    "    metrics = Metrics()\n",
    "    model.fit_generator(\n",
    "        iter(lambda: make_batch(batch_size), None), \n",
    "        steps_per_epoch=steps_per_epoch, \n",
    "        epochs=epochs, \n",
    "        callbacks=[tf.keras.callbacks.TensorBoard(log_dir=\"logs\"), metrics]\n",
    "    )\n",
    "    model.save(\"model.hdf5\")\n",
    "    print(\"Done\")\n",
    "    return model, metrics"
   ]
  },
  {
   "cell_type": "code",
   "execution_count": 7,
   "metadata": {
    "colab": {
     "base_uri": "https://localhost:8080/"
    },
    "executionInfo": {
     "elapsed": 1820488,
     "status": "ok",
     "timestamp": 1606630825687,
     "user": {
      "displayName": "Jay Mody",
      "photoUrl": "https://lh3.googleusercontent.com/a-/AOh14GgCXWcHrcgynr-4to5IOpeiLngudJ2C16JJoC_l=s64",
      "userId": "17226995523972850742"
     },
     "user_tz": 300
    },
    "id": "tLaTtzBKlSiH",
    "outputId": "2ba6c6e8-e7e8-4d23-94d2-f28d66c47b0c"
   },
   "outputs": [
    {
     "name": "stdout",
     "output_type": "stream",
     "text": [
      "Model: \"sequential\"\n",
      "_________________________________________________________________\n",
      "Layer (type)                 Output Shape              Param #   \n",
      "=================================================================\n",
      "reshape (Reshape)            (None, 200, 200, 1)       0         \n",
      "_________________________________________________________________\n",
      "conv2d (Conv2D)              (None, 200, 200, 8)       968       \n",
      "_________________________________________________________________\n",
      "batch_normalization (BatchNo (None, 200, 200, 8)       32        \n",
      "_________________________________________________________________\n",
      "activation (Activation)      (None, 200, 200, 8)       0         \n",
      "_________________________________________________________________\n",
      "max_pooling2d (MaxPooling2D) (None, 100, 100, 8)       0         \n",
      "_________________________________________________________________\n",
      "conv2d_1 (Conv2D)            (None, 100, 100, 16)      10368     \n",
      "_________________________________________________________________\n",
      "batch_normalization_1 (Batch (None, 100, 100, 16)      64        \n",
      "_________________________________________________________________\n",
      "activation_1 (Activation)    (None, 100, 100, 16)      0         \n",
      "_________________________________________________________________\n",
      "max_pooling2d_1 (MaxPooling2 (None, 50, 50, 16)        0         \n",
      "_________________________________________________________________\n",
      "conv2d_2 (Conv2D)            (None, 50, 50, 32)        25088     \n",
      "_________________________________________________________________\n",
      "batch_normalization_2 (Batch (None, 50, 50, 32)        128       \n",
      "_________________________________________________________________\n",
      "activation_2 (Activation)    (None, 50, 50, 32)        0         \n",
      "_________________________________________________________________\n",
      "max_pooling2d_2 (MaxPooling2 (None, 25, 25, 32)        0         \n",
      "_________________________________________________________________\n",
      "conv2d_3 (Conv2D)            (None, 25, 25, 64)        51200     \n",
      "_________________________________________________________________\n",
      "batch_normalization_3 (Batch (None, 25, 25, 64)        256       \n",
      "_________________________________________________________________\n",
      "activation_3 (Activation)    (None, 25, 25, 64)        0         \n",
      "_________________________________________________________________\n",
      "max_pooling2d_3 (MaxPooling2 (None, 12, 12, 64)        0         \n",
      "_________________________________________________________________\n",
      "conv2d_4 (Conv2D)            (None, 12, 12, 128)       73728     \n",
      "_________________________________________________________________\n",
      "batch_normalization_4 (Batch (None, 12, 12, 128)       512       \n",
      "_________________________________________________________________\n",
      "activation_4 (Activation)    (None, 12, 12, 128)       0         \n",
      "_________________________________________________________________\n",
      "max_pooling2d_4 (MaxPooling2 (None, 6, 6, 128)         0         \n",
      "_________________________________________________________________\n",
      "conv2d_5 (Conv2D)            (None, 6, 6, 256)         294912    \n",
      "_________________________________________________________________\n",
      "batch_normalization_5 (Batch (None, 6, 6, 256)         1024      \n",
      "_________________________________________________________________\n",
      "activation_5 (Activation)    (None, 6, 6, 256)         0         \n",
      "_________________________________________________________________\n",
      "max_pooling2d_5 (MaxPooling2 (None, 3, 3, 256)         0         \n",
      "_________________________________________________________________\n",
      "conv2d_6 (Conv2D)            (None, 3, 3, 512)         1179648   \n",
      "_________________________________________________________________\n",
      "batch_normalization_6 (Batch (None, 3, 3, 512)         2048      \n",
      "_________________________________________________________________\n",
      "activation_6 (Activation)    (None, 3, 3, 512)         0         \n",
      "_________________________________________________________________\n",
      "max_pooling2d_6 (MaxPooling2 (None, 1, 1, 512)         0         \n",
      "_________________________________________________________________\n",
      "flatten (Flatten)            (None, 512)               0         \n",
      "_________________________________________________________________\n",
      "dense (Dense)                (None, 5)                 2565      \n",
      "=================================================================\n",
      "Total params: 1,642,541\n",
      "Trainable params: 1,640,509\n",
      "Non-trainable params: 2,032\n",
      "_________________________________________________________________\n",
      "WARNING:tensorflow:From <ipython-input-6-05ef444c4785>:75: Model.fit_generator (from tensorflow.python.keras.engine.training) is deprecated and will be removed in a future version.\n",
      "Instructions for updating:\n",
      "Please use Model.fit, which supports generators.\n",
      "Epoch 1/100\n",
      "  1/250 [..............................] - ETA: 0s - loss: 5128.0654WARNING:tensorflow:From /usr/local/lib/python3.6/dist-packages/tensorflow/python/ops/summary_ops_v2.py:1277: stop (from tensorflow.python.eager.profiler) is deprecated and will be removed after 2020-07-01.\n",
      "Instructions for updating:\n",
      "use `tf.profiler.experimental.stop` instead.\n",
      "  2/250 [..............................] - ETA: 9s - loss: 4671.6860WARNING:tensorflow:Callbacks method `on_train_batch_end` is slow compared to the batch time (batch time: 0.0217s vs `on_train_batch_end` time: 0.0511s). Check your callbacks.\n",
      "250/250 [==============================] - 18s 73ms/step - loss: 446.8595\n",
      "Epoch 2/100\n",
      "250/250 [==============================] - 18s 72ms/step - loss: 160.6137\n",
      "Epoch 3/100\n",
      "250/250 [==============================] - 18s 73ms/step - loss: 128.7852\n",
      "Epoch 4/100\n",
      "250/250 [==============================] - 18s 73ms/step - loss: 98.6888\n",
      "Epoch 5/100\n",
      "250/250 [==============================] - 18s 72ms/step - loss: 92.3832\n",
      "Epoch 6/100\n",
      "250/250 [==============================] - 18s 72ms/step - loss: 77.2850\n",
      "Epoch 7/100\n",
      "250/250 [==============================] - 18s 72ms/step - loss: 76.9811\n",
      "Epoch 8/100\n",
      "250/250 [==============================] - 18s 72ms/step - loss: 68.2262\n",
      "Epoch 9/100\n",
      "250/250 [==============================] - 18s 73ms/step - loss: 62.6008\n",
      "Epoch 10/100\n",
      "250/250 [==============================] - 18s 72ms/step - loss: 71.5686\n",
      "Epoch 11/100\n",
      "250/250 [==============================] - 18s 71ms/step - loss: 57.5474\n",
      "Epoch 12/100\n",
      "250/250 [==============================] - 18s 72ms/step - loss: 59.8703\n",
      "Epoch 13/100\n",
      "250/250 [==============================] - 18s 71ms/step - loss: 56.6214\n",
      "Epoch 14/100\n",
      "250/250 [==============================] - 18s 71ms/step - loss: 61.9002\n",
      "Epoch 15/100\n",
      "250/250 [==============================] - 18s 71ms/step - loss: 56.1309\n",
      "Epoch 16/100\n",
      "250/250 [==============================] - 18s 72ms/step - loss: 48.7680\n",
      "Epoch 17/100\n",
      "250/250 [==============================] - 18s 72ms/step - loss: 49.7032\n",
      "Epoch 18/100\n",
      "250/250 [==============================] - 18s 71ms/step - loss: 49.1364\n",
      "Epoch 19/100\n",
      "250/250 [==============================] - 18s 72ms/step - loss: 47.3880\n",
      "Epoch 20/100\n",
      "250/250 [==============================] - 18s 72ms/step - loss: 49.5982\n",
      "Epoch 21/100\n",
      "250/250 [==============================] - 18s 73ms/step - loss: 45.5517\n",
      "Epoch 22/100\n",
      "250/250 [==============================] - 18s 72ms/step - loss: 48.1011\n",
      "Epoch 23/100\n",
      "250/250 [==============================] - 18s 72ms/step - loss: 42.5067\n",
      "Epoch 24/100\n",
      "250/250 [==============================] - 18s 72ms/step - loss: 43.1074\n",
      "Epoch 25/100\n",
      "250/250 [==============================] - 18s 73ms/step - loss: 44.1441\n",
      "Epoch 26/100\n",
      "250/250 [==============================] - 19s 75ms/step - loss: 39.5689\n",
      "Epoch 27/100\n",
      "250/250 [==============================] - 18s 72ms/step - loss: 40.0193\n",
      "Epoch 28/100\n",
      "250/250 [==============================] - 18s 72ms/step - loss: 41.6283\n",
      "Epoch 29/100\n",
      "250/250 [==============================] - 18s 71ms/step - loss: 41.2939\n",
      "Epoch 30/100\n",
      "250/250 [==============================] - 18s 73ms/step - loss: 39.7127\n",
      "Epoch 31/100\n",
      "250/250 [==============================] - 18s 73ms/step - loss: 39.8549\n",
      "Epoch 32/100\n",
      "250/250 [==============================] - 18s 74ms/step - loss: 40.1942\n",
      "Epoch 33/100\n",
      "250/250 [==============================] - 18s 73ms/step - loss: 36.0677\n",
      "Epoch 34/100\n",
      "250/250 [==============================] - 18s 73ms/step - loss: 36.2212\n",
      "Epoch 35/100\n",
      "250/250 [==============================] - 18s 73ms/step - loss: 35.6373\n",
      "Epoch 36/100\n",
      "250/250 [==============================] - 18s 72ms/step - loss: 37.6885\n",
      "Epoch 37/100\n",
      "250/250 [==============================] - 18s 71ms/step - loss: 34.7924\n",
      "Epoch 38/100\n",
      "250/250 [==============================] - 18s 72ms/step - loss: 34.0237\n",
      "Epoch 39/100\n",
      "250/250 [==============================] - 18s 73ms/step - loss: 30.9573\n",
      "Epoch 40/100\n",
      "250/250 [==============================] - 18s 73ms/step - loss: 34.0386\n",
      "Epoch 41/100\n",
      "250/250 [==============================] - 18s 73ms/step - loss: 31.1836\n",
      "Epoch 42/100\n",
      "250/250 [==============================] - 18s 72ms/step - loss: 34.5873\n",
      "Epoch 43/100\n",
      "250/250 [==============================] - 18s 74ms/step - loss: 33.6702\n",
      "Epoch 44/100\n",
      "250/250 [==============================] - 18s 72ms/step - loss: 29.0901\n",
      "Epoch 45/100\n",
      "250/250 [==============================] - 18s 72ms/step - loss: 31.7292\n",
      "Epoch 46/100\n",
      "250/250 [==============================] - 18s 72ms/step - loss: 33.4879\n",
      "Epoch 47/100\n",
      "250/250 [==============================] - 18s 72ms/step - loss: 29.2178\n",
      "Epoch 48/100\n",
      "250/250 [==============================] - 18s 74ms/step - loss: 31.3263\n",
      "Epoch 49/100\n",
      "250/250 [==============================] - 18s 73ms/step - loss: 32.6068\n",
      "Epoch 50/100\n",
      "250/250 [==============================] - 18s 73ms/step - loss: 31.8175\n",
      "Epoch 51/100\n",
      "250/250 [==============================] - 18s 73ms/step - loss: 33.2432\n",
      "Epoch 52/100\n",
      "250/250 [==============================] - 19s 75ms/step - loss: 33.4789\n",
      "Epoch 53/100\n",
      "250/250 [==============================] - 19s 74ms/step - loss: 27.5705\n",
      "Epoch 54/100\n",
      "250/250 [==============================] - 19s 74ms/step - loss: 30.4430\n",
      "Epoch 55/100\n",
      "250/250 [==============================] - 19s 74ms/step - loss: 29.9065\n",
      "Epoch 56/100\n",
      "250/250 [==============================] - 19s 74ms/step - loss: 29.8876\n",
      "Epoch 57/100\n",
      "250/250 [==============================] - 18s 73ms/step - loss: 31.6553\n",
      "Epoch 58/100\n",
      "250/250 [==============================] - 18s 73ms/step - loss: 30.5705\n",
      "Epoch 59/100\n",
      "250/250 [==============================] - 18s 73ms/step - loss: 30.9909\n",
      "Epoch 60/100\n",
      "250/250 [==============================] - 18s 72ms/step - loss: 26.7747\n",
      "Epoch 61/100\n",
      "250/250 [==============================] - 18s 72ms/step - loss: 28.3219\n",
      "Epoch 62/100\n",
      "250/250 [==============================] - 18s 72ms/step - loss: 27.1388\n",
      "Epoch 63/100\n",
      "250/250 [==============================] - 18s 72ms/step - loss: 26.4023\n",
      "Epoch 64/100\n",
      "250/250 [==============================] - 18s 73ms/step - loss: 30.4607\n",
      "Epoch 65/100\n",
      "250/250 [==============================] - 18s 74ms/step - loss: 26.0776\n",
      "Epoch 66/100\n",
      "250/250 [==============================] - 18s 73ms/step - loss: 26.1801\n",
      "Epoch 67/100\n",
      "250/250 [==============================] - 18s 72ms/step - loss: 24.4077\n",
      "Epoch 68/100\n",
      "250/250 [==============================] - 18s 72ms/step - loss: 28.6756\n",
      "Epoch 69/100\n",
      "250/250 [==============================] - 18s 73ms/step - loss: 27.9130\n",
      "Epoch 70/100\n",
      "250/250 [==============================] - 18s 73ms/step - loss: 24.9369\n",
      "Epoch 71/100\n",
      "250/250 [==============================] - 18s 72ms/step - loss: 27.6321\n",
      "Epoch 72/100\n",
      "250/250 [==============================] - 18s 72ms/step - loss: 25.7026\n",
      "Epoch 73/100\n",
      "250/250 [==============================] - 18s 71ms/step - loss: 23.9148\n",
      "Epoch 74/100\n",
      "250/250 [==============================] - 18s 73ms/step - loss: 30.5097\n",
      "Epoch 75/100\n",
      "250/250 [==============================] - 18s 71ms/step - loss: 25.8959\n",
      "Epoch 76/100\n",
      "250/250 [==============================] - 18s 71ms/step - loss: 25.3946\n",
      "Epoch 77/100\n",
      "250/250 [==============================] - 18s 73ms/step - loss: 25.3181\n",
      "Epoch 78/100\n",
      "250/250 [==============================] - 18s 71ms/step - loss: 23.9978\n",
      "Epoch 79/100\n",
      "250/250 [==============================] - 18s 72ms/step - loss: 26.4446\n",
      "Epoch 80/100\n",
      "250/250 [==============================] - 18s 72ms/step - loss: 26.4522\n",
      "Epoch 81/100\n",
      "250/250 [==============================] - 18s 72ms/step - loss: 23.9471\n",
      "Epoch 82/100\n",
      "250/250 [==============================] - 18s 71ms/step - loss: 23.2357\n",
      "Epoch 83/100\n",
      "250/250 [==============================] - 18s 72ms/step - loss: 22.6883\n",
      "Epoch 84/100\n",
      "250/250 [==============================] - 18s 72ms/step - loss: 24.0706\n",
      "Epoch 85/100\n",
      "250/250 [==============================] - 18s 71ms/step - loss: 24.2064\n",
      "Epoch 86/100\n",
      "250/250 [==============================] - 18s 71ms/step - loss: 23.3709\n",
      "Epoch 87/100\n",
      "250/250 [==============================] - 18s 72ms/step - loss: 25.5575\n",
      "Epoch 88/100\n",
      "250/250 [==============================] - 18s 72ms/step - loss: 23.8905\n",
      "Epoch 89/100\n",
      "250/250 [==============================] - 18s 72ms/step - loss: 21.2505\n",
      "Epoch 90/100\n",
      "250/250 [==============================] - 18s 71ms/step - loss: 20.2163\n",
      "Epoch 91/100\n",
      "250/250 [==============================] - 18s 72ms/step - loss: 23.4745\n",
      "Epoch 92/100\n",
      "250/250 [==============================] - 18s 72ms/step - loss: 26.5665\n",
      "Epoch 93/100\n",
      "250/250 [==============================] - 18s 73ms/step - loss: 22.2995\n",
      "Epoch 94/100\n",
      "250/250 [==============================] - 18s 73ms/step - loss: 20.6344\n",
      "Epoch 95/100\n",
      "250/250 [==============================] - 18s 73ms/step - loss: 21.8974\n",
      "Epoch 96/100\n",
      "250/250 [==============================] - 18s 72ms/step - loss: 23.2035\n",
      "Epoch 97/100\n",
      "250/250 [==============================] - 18s 73ms/step - loss: 23.5606\n",
      "Epoch 98/100\n",
      "250/250 [==============================] - 18s 73ms/step - loss: 21.1833\n",
      "Epoch 99/100\n",
      "250/250 [==============================] - 18s 72ms/step - loss: 22.0442\n",
      "Epoch 100/100\n",
      "250/250 [==============================] - 18s 72ms/step - loss: 24.0763\n",
      "Done\n"
     ]
    }
   ],
   "source": [
    "# lr = 0.005\n",
    "model, metrics = train(32, 250, 100)"
   ]
  },
  {
   "cell_type": "code",
   "execution_count": 23,
   "metadata": {
    "colab": {
     "base_uri": "https://localhost:8080/"
    },
    "executionInfo": {
     "elapsed": 582,
     "status": "ok",
     "timestamp": 1606631197295,
     "user": {
      "displayName": "Jay Mody",
      "photoUrl": "https://lh3.googleusercontent.com/a-/AOh14GgCXWcHrcgynr-4to5IOpeiLngudJ2C16JJoC_l=s64",
      "userId": "17226995523972850742"
     },
     "user_tz": 300
    },
    "id": "24b8YSD2rLpj",
    "outputId": "0c6841f3-6b9c-484c-8fd1-bd4ca523a5a5"
   },
   "outputs": [
    {
     "name": "stdout",
     "output_type": "stream",
     "text": [
      "\n",
      "--- done training ---\n",
      "             loss = 24.076\n",
      "         mean_iou = 0.548\n",
      "            score = 0.085\n",
      "\n",
      "        best_loss = 20.216\n",
      "    best_mean_iou = 0.571\n",
      "       best_score = 0.134\n",
      "\n"
     ]
    }
   ],
   "source": [
    "print()\n",
    "print(\"--- done training ---\")\n",
    "print(f\"             loss = {metrics.loss[-1]:.3f}\")\n",
    "print(f\"         mean_iou = {metrics.mean_iou[-1]:.3f}\")\n",
    "print(f\"            score = {metrics.score[-1]:.3f}\")\n",
    "print()\n",
    "print(f\"        best_loss = {min(metrics.loss):.3f}\")\n",
    "print(f\"    best_mean_iou = {max(metrics.mean_iou):.3f}\")\n",
    "print(f\"       best_score = {max(metrics.score):.3f}\")\n",
    "print()"
   ]
  },
  {
   "cell_type": "code",
   "execution_count": 17,
   "metadata": {
    "colab": {
     "base_uri": "https://localhost:8080/",
     "height": 499
    },
    "executionInfo": {
     "elapsed": 959,
     "status": "ok",
     "timestamp": 1606630961732,
     "user": {
      "displayName": "Jay Mody",
      "photoUrl": "https://lh3.googleusercontent.com/a-/AOh14GgCXWcHrcgynr-4to5IOpeiLngudJ2C16JJoC_l=s64",
      "userId": "17226995523972850742"
     },
     "user_tz": 300
    },
    "id": "YN_g2PG-gyzC",
    "outputId": "afc6d7df-5167-498c-e9fc-8eecbbae814c"
   },
   "outputs": [
    {
     "data": {
      "image/png": "[encoded data removed]",
      "text/plain": [
       "<Figure size 2160x576 with 3 Axes>"
      ]
     },
     "metadata": {
      "needs_background": "light",
      "tags": []
     },
     "output_type": "display_data"
    }
   ],
   "source": [
    "import matplotlib.pyplot as plt\n",
    "fig, ax = plt.subplots(1, 3, figsize=(30, 8))\n",
    "t = list(range(100))\n",
    "ax[0].plot(t, metrics.loss)\n",
    "ax[0].set_title(f\"loss ({metrics.loss[-1]:.3f})\")\n",
    "ax[1].plot(t, metrics.mean_iou)\n",
    "ax[1].set_title(f\"mean_iou ({metrics.mean_iou[-1]:.3f})\")\n",
    "ax[2].plot(t, metrics.score)\n",
    "ax[2].set_title(f\"score ({metrics.score[-1]:.3f})\")\n",
    "plt.show()"
   ]
  },
  {
   "cell_type": "code",
   "execution_count": 27,
   "metadata": {
    "colab": {
     "base_uri": "https://localhost:8080/"
    },
    "executionInfo": {
     "elapsed": 345,
     "status": "ok",
     "timestamp": 1606631359379,
     "user": {
      "displayName": "Jay Mody",
      "photoUrl": "https://lh3.googleusercontent.com/a-/AOh14GgCXWcHrcgynr-4to5IOpeiLngudJ2C16JJoC_l=s64",
      "userId": "17226995523972850742"
     },
     "user_tz": 300
    },
    "id": "UXks2IuWr-vN",
    "outputId": "e50b8ac2-9afb-46cd-b30f-92cb6539325c"
   },
   "outputs": [
    {
     "name": "stdout",
     "output_type": "stream",
     "text": [
      "0 \t 446.86\n",
      "8000 \t 160.61\n",
      "16000 \t 128.79\n",
      "24000 \t 98.69\n",
      "32000 \t 92.38\n",
      "40000 \t 77.28\n",
      "48000 \t 76.98\n",
      "56000 \t 68.23\n",
      "64000 \t 62.6\n",
      "72000 \t 71.57\n",
      "80000 \t 57.55\n",
      "88000 \t 59.87\n",
      "96000 \t 56.62\n",
      "104000 \t 61.9\n",
      "112000 \t 56.13\n",
      "120000 \t 48.77\n",
      "128000 \t 49.7\n",
      "136000 \t 49.14\n",
      "144000 \t 47.39\n",
      "152000 \t 49.6\n",
      "160000 \t 45.55\n",
      "168000 \t 48.1\n",
      "176000 \t 42.51\n",
      "184000 \t 43.11\n",
      "192000 \t 44.14\n",
      "200000 \t 39.57\n",
      "208000 \t 40.02\n",
      "216000 \t 41.63\n",
      "224000 \t 41.29\n",
      "232000 \t 39.71\n",
      "240000 \t 39.85\n",
      "248000 \t 40.19\n",
      "256000 \t 36.07\n",
      "264000 \t 36.22\n",
      "272000 \t 35.64\n",
      "280000 \t 37.69\n",
      "288000 \t 34.79\n",
      "296000 \t 34.02\n",
      "304000 \t 30.96\n",
      "312000 \t 34.04\n",
      "320000 \t 31.18\n",
      "328000 \t 34.59\n",
      "336000 \t 33.67\n",
      "344000 \t 29.09\n",
      "352000 \t 31.73\n",
      "360000 \t 33.49\n",
      "368000 \t 29.22\n",
      "376000 \t 31.33\n",
      "384000 \t 32.61\n",
      "392000 \t 31.82\n",
      "400000 \t 33.24\n",
      "408000 \t 33.48\n",
      "416000 \t 27.57\n",
      "424000 \t 30.44\n",
      "432000 \t 29.91\n",
      "440000 \t 29.89\n",
      "448000 \t 31.66\n",
      "456000 \t 30.57\n",
      "464000 \t 30.99\n",
      "472000 \t 26.77\n",
      "480000 \t 28.32\n",
      "488000 \t 27.14\n",
      "496000 \t 26.4\n",
      "504000 \t 30.46\n",
      "512000 \t 26.08\n",
      "520000 \t 26.18\n",
      "528000 \t 24.41\n",
      "536000 \t 28.68\n",
      "544000 \t 27.91\n",
      "552000 \t 24.94\n",
      "560000 \t 27.63\n",
      "568000 \t 25.7\n",
      "576000 \t 23.91\n",
      "584000 \t 30.51\n",
      "592000 \t 25.9\n",
      "600000 \t 25.39\n",
      "608000 \t 25.32\n",
      "616000 \t 24.0\n",
      "624000 \t 26.44\n",
      "632000 \t 26.45\n",
      "640000 \t 23.95\n",
      "648000 \t 23.24\n",
      "656000 \t 22.69\n",
      "664000 \t 24.07\n",
      "672000 \t 24.21\n",
      "680000 \t 23.37\n",
      "688000 \t 25.56\n",
      "696000 \t 23.89\n",
      "704000 \t 21.25\n",
      "712000 \t 20.22\n",
      "720000 \t 23.47\n",
      "728000 \t 26.57\n",
      "736000 \t 22.3\n",
      "744000 \t 20.63\n",
      "752000 \t 21.9\n",
      "760000 \t 23.2\n",
      "768000 \t 23.56\n",
      "776000 \t 21.18\n",
      "784000 \t 22.04\n",
      "792000 \t 24.08\n"
     ]
    }
   ],
   "source": [
    "for i, l in enumerate(metrics.loss):\n",
    "    print(i*32*250, \"\\t\", round(l, 2))"
   ]
  },
  {
   "cell_type": "code",
   "execution_count": null,
   "metadata": {
    "id": "IW7vMlj0XbH2"
   },
   "outputs": [],
   "source": [
    "# [(8, 11), (16, 9), (32, 7), (64, 5), (128, 3), (256, 3), (512, 3)]\n",
    "# kernel_size = 11, 9, 7, 5, 3, 3, 3\n",
    "# nfilters = 8, 16, 32, 64, 128, 256, 512\n",
    "# batch_size = 32\n",
    "# relu, no dropout, no regularization, simple n_classes dense at the end (no activation on it)\n",
    "# main() \n",
    "\n",
    "# eval = 0.142\n",
    "# 30 epochs"
   ]
  },
  {
   "cell_type": "code",
   "execution_count": 114,
   "metadata": {
    "colab": {
     "base_uri": "https://localhost:8080/"
    },
    "executionInfo": {
     "elapsed": 361578,
     "status": "ok",
     "timestamp": 1606612506398,
     "user": {
      "displayName": "Jay Mody",
      "photoUrl": "https://lh3.googleusercontent.com/a-/AOh14GgCXWcHrcgynr-4to5IOpeiLngudJ2C16JJoC_l=s64",
      "userId": "17226995523972850742"
     },
     "user_tz": 300
    },
    "id": "S8mgWafGi1wt",
    "outputId": "0d634b8c-27f2-43f2-92e2-d18d6c5aa4d7"
   },
   "outputs": [
    {
     "name": "stdout",
     "output_type": "stream",
     "text": [
      "Model: \"sequential_32\"\n",
      "_________________________________________________________________\n",
      "Layer (type)                 Output Shape              Param #   \n",
      "=================================================================\n",
      "reshape_32 (Reshape)         (None, 200, 200, 1)       0         \n",
      "_________________________________________________________________\n",
      "conv2d_187 (Conv2D)          (None, 200, 200, 8)       968       \n",
      "_________________________________________________________________\n",
      "batch_normalization_186 (Bat (None, 200, 200, 8)       32        \n",
      "_________________________________________________________________\n",
      "activation_186 (Activation)  (None, 200, 200, 8)       0         \n",
      "_________________________________________________________________\n",
      "max_pooling2d_186 (MaxPoolin (None, 100, 100, 8)       0         \n",
      "_________________________________________________________________\n",
      "conv2d_188 (Conv2D)          (None, 100, 100, 16)      10368     \n",
      "_________________________________________________________________\n",
      "batch_normalization_187 (Bat (None, 100, 100, 16)      64        \n",
      "_________________________________________________________________\n",
      "activation_187 (Activation)  (None, 100, 100, 16)      0         \n",
      "_________________________________________________________________\n",
      "max_pooling2d_187 (MaxPoolin (None, 50, 50, 16)        0         \n",
      "_________________________________________________________________\n",
      "conv2d_189 (Conv2D)          (None, 50, 50, 32)        25088     \n",
      "_________________________________________________________________\n",
      "batch_normalization_188 (Bat (None, 50, 50, 32)        128       \n",
      "_________________________________________________________________\n",
      "activation_188 (Activation)  (None, 50, 50, 32)        0         \n",
      "_________________________________________________________________\n",
      "max_pooling2d_188 (MaxPoolin (None, 25, 25, 32)        0         \n",
      "_________________________________________________________________\n",
      "conv2d_190 (Conv2D)          (None, 25, 25, 64)        51200     \n",
      "_________________________________________________________________\n",
      "batch_normalization_189 (Bat (None, 25, 25, 64)        256       \n",
      "_________________________________________________________________\n",
      "activation_189 (Activation)  (None, 25, 25, 64)        0         \n",
      "_________________________________________________________________\n",
      "max_pooling2d_189 (MaxPoolin (None, 12, 12, 64)        0         \n",
      "_________________________________________________________________\n",
      "conv2d_191 (Conv2D)          (None, 12, 12, 128)       73728     \n",
      "_________________________________________________________________\n",
      "batch_normalization_190 (Bat (None, 12, 12, 128)       512       \n",
      "_________________________________________________________________\n",
      "activation_190 (Activation)  (None, 12, 12, 128)       0         \n",
      "_________________________________________________________________\n",
      "max_pooling2d_190 (MaxPoolin (None, 6, 6, 128)         0         \n",
      "_________________________________________________________________\n",
      "conv2d_192 (Conv2D)          (None, 6, 6, 256)         294912    \n",
      "_________________________________________________________________\n",
      "batch_normalization_191 (Bat (None, 6, 6, 256)         1024      \n",
      "_________________________________________________________________\n",
      "activation_191 (Activation)  (None, 6, 6, 256)         0         \n",
      "_________________________________________________________________\n",
      "max_pooling2d_191 (MaxPoolin (None, 3, 3, 256)         0         \n",
      "_________________________________________________________________\n",
      "conv2d_193 (Conv2D)          (None, 3, 3, 512)         1179648   \n",
      "_________________________________________________________________\n",
      "batch_normalization_192 (Bat (None, 3, 3, 512)         2048      \n",
      "_________________________________________________________________\n",
      "activation_192 (Activation)  (None, 3, 3, 512)         0         \n",
      "_________________________________________________________________\n",
      "max_pooling2d_192 (MaxPoolin (None, 1, 1, 512)         0         \n",
      "_________________________________________________________________\n",
      "flatten_27 (Flatten)         (None, 512)               0         \n",
      "_________________________________________________________________\n",
      "dense_30 (Dense)             (None, 5)                 2565      \n",
      "=================================================================\n",
      "Total params: 1,642,541\n",
      "Trainable params: 1,640,509\n",
      "Non-trainable params: 2,032\n",
      "_________________________________________________________________\n",
      "Epoch 1/5\n",
      "1000/1000 [==============================] - 72s 72ms/step - loss: 312.7232\n",
      "Epoch 2/5\n",
      "1000/1000 [==============================] - 72s 72ms/step - loss: 88.6193\n",
      "Epoch 3/5\n",
      "1000/1000 [==============================] - 72s 72ms/step - loss: 65.0718\n",
      "Epoch 4/5\n",
      "1000/1000 [==============================] - 72s 72ms/step - loss: 60.0150\n",
      "Epoch 5/5\n",
      "1000/1000 [==============================] - 72s 72ms/step - loss: 51.3037\n",
      "Done\n"
     ]
    }
   ],
   "source": [
    "# kernel_size = 9, padding same, no bias\n",
    "# nfilters = 8, 16, 32, 64, 128, 256, 512 \n",
    "# batch_size = 32\n",
    "# relu, no dropout, no regularization, simple n_classes dense at the end (no activation on it)\n",
    "# main() \n",
    "\n",
    "# eval = 0.036"
   ]
  },
  {
   "cell_type": "code",
   "execution_count": 110,
   "metadata": {
    "colab": {
     "base_uri": "https://localhost:8080/"
    },
    "executionInfo": {
     "elapsed": 394623,
     "status": "ok",
     "timestamp": 1606612051260,
     "user": {
      "displayName": "Jay Mody",
      "photoUrl": "https://lh3.googleusercontent.com/a-/AOh14GgCXWcHrcgynr-4to5IOpeiLngudJ2C16JJoC_l=s64",
      "userId": "17226995523972850742"
     },
     "user_tz": 300
    },
    "id": "Sh-gYzuaKJTF",
    "outputId": "ab929791-1adf-4fdc-9521-b9a029d92bbb"
   },
   "outputs": [
    {
     "name": "stdout",
     "output_type": "stream",
     "text": [
      "Model: \"sequential_31\"\n",
      "_________________________________________________________________\n",
      "Layer (type)                 Output Shape              Param #   \n",
      "=================================================================\n",
      "reshape_31 (Reshape)         (None, 200, 200, 1)       0         \n",
      "_________________________________________________________________\n",
      "conv2d_180 (Conv2D)          (None, 200, 200, 8)       648       \n",
      "_________________________________________________________________\n",
      "batch_normalization_179 (Bat (None, 200, 200, 8)       32        \n",
      "_________________________________________________________________\n",
      "activation_179 (Activation)  (None, 200, 200, 8)       0         \n",
      "_________________________________________________________________\n",
      "max_pooling2d_179 (MaxPoolin (None, 100, 100, 8)       0         \n",
      "_________________________________________________________________\n",
      "conv2d_181 (Conv2D)          (None, 100, 100, 16)      10368     \n",
      "_________________________________________________________________\n",
      "batch_normalization_180 (Bat (None, 100, 100, 16)      64        \n",
      "_________________________________________________________________\n",
      "activation_180 (Activation)  (None, 100, 100, 16)      0         \n",
      "_________________________________________________________________\n",
      "max_pooling2d_180 (MaxPoolin (None, 50, 50, 16)        0         \n",
      "_________________________________________________________________\n",
      "conv2d_182 (Conv2D)          (None, 50, 50, 32)        41472     \n",
      "_________________________________________________________________\n",
      "batch_normalization_181 (Bat (None, 50, 50, 32)        128       \n",
      "_________________________________________________________________\n",
      "activation_181 (Activation)  (None, 50, 50, 32)        0         \n",
      "_________________________________________________________________\n",
      "max_pooling2d_181 (MaxPoolin (None, 25, 25, 32)        0         \n",
      "_________________________________________________________________\n",
      "conv2d_183 (Conv2D)          (None, 25, 25, 64)        165888    \n",
      "_________________________________________________________________\n",
      "batch_normalization_182 (Bat (None, 25, 25, 64)        256       \n",
      "_________________________________________________________________\n",
      "activation_182 (Activation)  (None, 25, 25, 64)        0         \n",
      "_________________________________________________________________\n",
      "max_pooling2d_182 (MaxPoolin (None, 12, 12, 64)        0         \n",
      "_________________________________________________________________\n",
      "conv2d_184 (Conv2D)          (None, 12, 12, 128)       663552    \n",
      "_________________________________________________________________\n",
      "batch_normalization_183 (Bat (None, 12, 12, 128)       512       \n",
      "_________________________________________________________________\n",
      "activation_183 (Activation)  (None, 12, 12, 128)       0         \n",
      "_________________________________________________________________\n",
      "max_pooling2d_183 (MaxPoolin (None, 6, 6, 128)         0         \n",
      "_________________________________________________________________\n",
      "conv2d_185 (Conv2D)          (None, 6, 6, 256)         2654208   \n",
      "_________________________________________________________________\n",
      "batch_normalization_184 (Bat (None, 6, 6, 256)         1024      \n",
      "_________________________________________________________________\n",
      "activation_184 (Activation)  (None, 6, 6, 256)         0         \n",
      "_________________________________________________________________\n",
      "max_pooling2d_184 (MaxPoolin (None, 3, 3, 256)         0         \n",
      "_________________________________________________________________\n",
      "conv2d_186 (Conv2D)          (None, 3, 3, 512)         10616832  \n",
      "_________________________________________________________________\n",
      "batch_normalization_185 (Bat (None, 3, 3, 512)         2048      \n",
      "_________________________________________________________________\n",
      "activation_185 (Activation)  (None, 3, 3, 512)         0         \n",
      "_________________________________________________________________\n",
      "max_pooling2d_185 (MaxPoolin (None, 1, 1, 512)         0         \n",
      "_________________________________________________________________\n",
      "flatten_26 (Flatten)         (None, 512)               0         \n",
      "_________________________________________________________________\n",
      "dense_29 (Dense)             (None, 5)                 2565      \n",
      "=================================================================\n",
      "Total params: 14,159,597\n",
      "Trainable params: 14,157,565\n",
      "Non-trainable params: 2,032\n",
      "_________________________________________________________________\n",
      "Epoch 1/5\n",
      "1000/1000 [==============================] - 78s 78ms/step - loss: 316.6553\n",
      "Epoch 2/5\n",
      "1000/1000 [==============================] - 79s 79ms/step - loss: 84.4254\n",
      "Epoch 3/5\n",
      "1000/1000 [==============================] - 78s 78ms/step - loss: 65.4194\n",
      "Epoch 4/5\n",
      "1000/1000 [==============================] - 79s 79ms/step - loss: 52.8527\n",
      "Epoch 5/5\n",
      "1000/1000 [==============================] - 78s 78ms/step - loss: 48.5320\n",
      "Done\n"
     ]
    }
   ],
   "source": [
    "# kernel_size = 9, padding same, no bias\n",
    "# nfilters = 8, 16, 32, 64, 128, 256, 512 \n",
    "# batch_size = 32, iters_per_epoch = 1000\n",
    "# relu, no dropout, no regularization, simple n_classes dense at the end (no activation on it)\n",
    "# main() \n",
    "\n",
    "# eval = 0.02"
   ]
  },
  {
   "cell_type": "code",
   "execution_count": 7,
   "metadata": {
    "colab": {
     "base_uri": "https://localhost:8080/"
    },
    "executionInfo": {
     "elapsed": 340265,
     "status": "ok",
     "timestamp": 1606603566286,
     "user": {
      "displayName": "Jay Mody",
      "photoUrl": "https://lh3.googleusercontent.com/a-/AOh14GgCXWcHrcgynr-4to5IOpeiLngudJ2C16JJoC_l=s64",
      "userId": "17226995523972850742"
     },
     "user_tz": 300
    },
    "id": "TDhyhtaQAHWX",
    "outputId": "b2a78758-04dc-43e4-ec71-f8ac0ccb7575"
   },
   "outputs": [
    {
     "name": "stdout",
     "output_type": "stream",
     "text": [
      "Model: \"sequential\"\n",
      "_________________________________________________________________\n",
      "Layer (type)                 Output Shape              Param #   \n",
      "=================================================================\n",
      "reshape (Reshape)            (None, 200, 200, 1)       0         \n",
      "_________________________________________________________________\n",
      "conv2d (Conv2D)              (None, 200, 200, 8)       72        \n",
      "_________________________________________________________________\n",
      "batch_normalization (BatchNo (None, 200, 200, 8)       32        \n",
      "_________________________________________________________________\n",
      "activation (Activation)      (None, 200, 200, 8)       0         \n",
      "_________________________________________________________________\n",
      "max_pooling2d (MaxPooling2D) (None, 100, 100, 8)       0         \n",
      "_________________________________________________________________\n",
      "conv2d_1 (Conv2D)            (None, 100, 100, 16)      1152      \n",
      "_________________________________________________________________\n",
      "batch_normalization_1 (Batch (None, 100, 100, 16)      64        \n",
      "_________________________________________________________________\n",
      "activation_1 (Activation)    (None, 100, 100, 16)      0         \n",
      "_________________________________________________________________\n",
      "max_pooling2d_1 (MaxPooling2 (None, 50, 50, 16)        0         \n",
      "_________________________________________________________________\n",
      "conv2d_2 (Conv2D)            (None, 50, 50, 32)        4608      \n",
      "_________________________________________________________________\n",
      "batch_normalization_2 (Batch (None, 50, 50, 32)        128       \n",
      "_________________________________________________________________\n",
      "activation_2 (Activation)    (None, 50, 50, 32)        0         \n",
      "_________________________________________________________________\n",
      "max_pooling2d_2 (MaxPooling2 (None, 25, 25, 32)        0         \n",
      "_________________________________________________________________\n",
      "conv2d_3 (Conv2D)            (None, 25, 25, 64)        18432     \n",
      "_________________________________________________________________\n",
      "batch_normalization_3 (Batch (None, 25, 25, 64)        256       \n",
      "_________________________________________________________________\n",
      "activation_3 (Activation)    (None, 25, 25, 64)        0         \n",
      "_________________________________________________________________\n",
      "max_pooling2d_3 (MaxPooling2 (None, 12, 12, 64)        0         \n",
      "_________________________________________________________________\n",
      "conv2d_4 (Conv2D)            (None, 12, 12, 128)       73728     \n",
      "_________________________________________________________________\n",
      "batch_normalization_4 (Batch (None, 12, 12, 128)       512       \n",
      "_________________________________________________________________\n",
      "activation_4 (Activation)    (None, 12, 12, 128)       0         \n",
      "_________________________________________________________________\n",
      "max_pooling2d_4 (MaxPooling2 (None, 6, 6, 128)         0         \n",
      "_________________________________________________________________\n",
      "conv2d_5 (Conv2D)            (None, 6, 6, 256)         294912    \n",
      "_________________________________________________________________\n",
      "batch_normalization_5 (Batch (None, 6, 6, 256)         1024      \n",
      "_________________________________________________________________\n",
      "activation_5 (Activation)    (None, 6, 6, 256)         0         \n",
      "_________________________________________________________________\n",
      "max_pooling2d_5 (MaxPooling2 (None, 3, 3, 256)         0         \n",
      "_________________________________________________________________\n",
      "conv2d_6 (Conv2D)            (None, 3, 3, 512)         1179648   \n",
      "_________________________________________________________________\n",
      "batch_normalization_6 (Batch (None, 3, 3, 512)         2048      \n",
      "_________________________________________________________________\n",
      "activation_6 (Activation)    (None, 3, 3, 512)         0         \n",
      "_________________________________________________________________\n",
      "max_pooling2d_6 (MaxPooling2 (None, 1, 1, 512)         0         \n",
      "_________________________________________________________________\n",
      "flatten (Flatten)            (None, 512)               0         \n",
      "_________________________________________________________________\n",
      "dense (Dense)                (None, 5)                 2565      \n",
      "=================================================================\n",
      "Total params: 1,579,181\n",
      "Trainable params: 1,577,149\n",
      "Non-trainable params: 2,032\n",
      "_________________________________________________________________\n",
      "WARNING:tensorflow:From <ipython-input-6-32955ae9d4e3>:49: Model.fit_generator (from tensorflow.python.keras.engine.training) is deprecated and will be removed in a future version.\n",
      "Instructions for updating:\n",
      "Please use Model.fit, which supports generators.\n",
      "Epoch 1/5\n",
      "500/500 [==============================] - 67s 134ms/step - loss: 498.8253\n",
      "Epoch 2/5\n",
      "500/500 [==============================] - 67s 135ms/step - loss: 122.3079\n",
      "Epoch 3/5\n",
      "500/500 [==============================] - 67s 135ms/step - loss: 91.0542\n",
      "Epoch 4/5\n",
      "500/500 [==============================] - 67s 134ms/step - loss: 77.5309\n",
      "Epoch 5/5\n",
      "500/500 [==============================] - 66s 132ms/step - loss: 65.2166\n",
      "Done\n"
     ]
    }
   ],
   "source": [
    "# default with preprocessing of image\n",
    "# main()"
   ]
  },
  {
   "cell_type": "markdown",
   "metadata": {
    "id": "PAXJKV6sAJGE"
   },
   "source": [
    "# eval"
   ]
  },
  {
   "cell_type": "code",
   "execution_count": 28,
   "metadata": {
    "executionInfo": {
     "elapsed": 361,
     "status": "ok",
     "timestamp": 1606631467549,
     "user": {
      "displayName": "Jay Mody",
      "photoUrl": "https://lh3.googleusercontent.com/a-/AOh14GgCXWcHrcgynr-4to5IOpeiLngudJ2C16JJoC_l=s64",
      "userId": "17226995523972850742"
     },
     "user_tz": 300
    },
    "id": "apWGl3v8U57y"
   },
   "outputs": [],
   "source": [
    "from helpers import make_data, score_iou\n",
    "import numpy as np\n",
    "from tensorflow import keras\n",
    "from tqdm import tqdm\n",
    "\n",
    "\n",
    "def eval():\n",
    "    model = keras.models.load_model(\"model.hdf5\")\n",
    "\n",
    "    ious = []\n",
    "    images, labels = make_batch(1000)\n",
    "    for img, label in tqdm(zip(images, labels), total=1000):\n",
    "        pred = model.predict(img[None])\n",
    "        pred = np.squeeze(pred)\n",
    "        ious.append(score_iou(label, pred))\n",
    "\n",
    "    ious = np.asarray(ious, dtype=\"float\")\n",
    "    ious = ious[~np.isnan(ious)]  # remove true negatives\n",
    "    print()\n",
    "    print((ious > 0.7).mean())\n",
    "    # 0.004"
   ]
  },
  {
   "cell_type": "code",
   "execution_count": 29,
   "metadata": {
    "colab": {
     "base_uri": "https://localhost:8080/"
    },
    "executionInfo": {
     "elapsed": 35047,
     "status": "ok",
     "timestamp": 1606631503478,
     "user": {
      "displayName": "Jay Mody",
      "photoUrl": "https://lh3.googleusercontent.com/a-/AOh14GgCXWcHrcgynr-4to5IOpeiLngudJ2C16JJoC_l=s64",
      "userId": "17226995523972850742"
     },
     "user_tz": 300
    },
    "id": "0ewrCYt_U57y",
    "outputId": "8fa9a56d-3198-4914-d435-4c2b6e4f3632"
   },
   "outputs": [
    {
     "name": "stderr",
     "output_type": "stream",
     "text": [
      "100%|██████████| 1000/1000 [00:32<00:00, 31.10it/s]"
     ]
    },
    {
     "name": "stdout",
     "output_type": "stream",
     "text": [
      "\n",
      "0.131\n"
     ]
    },
    {
     "name": "stderr",
     "output_type": "stream",
     "text": [
      "\n"
     ]
    }
   ],
   "source": [
    "eval()"
   ]
  },
  {
   "cell_type": "code",
   "execution_count": null,
   "metadata": {
    "id": "VYuRYRsnkkoB"
   },
   "outputs": [],
   "source": []
  }
 ],
 "metadata": {
  "accelerator": "GPU",
  "colab": {
   "collapsed_sections": [],
   "name": "train_with_preproc.ipynb",
   "provenance": []
  },
  "kernelspec": {
   "display_name": "Python 3",
   "language": "python",
   "name": "python3"
  },
  "language_info": {
   "codemirror_mode": {
    "name": "ipython",
    "version": 3
   },
   "file_extension": ".py",
   "mimetype": "text/x-python",
   "name": "python",
   "nbconvert_exporter": "python",
   "pygments_lexer": "ipython3",
   "version": "3.7.5"
  }
 },
 "nbformat": 4,
 "nbformat_minor": 4
}
